{
 "cells": [
  {
   "cell_type": "code",
   "execution_count": 1,
   "metadata": {},
   "outputs": [],
   "source": [
    "import numpy as np\n",
    "np.random.seed(42)\n",
    "m = 100\n",
    "X = 10 * np.random.rand(m, 1) - 5\n",
    "y = 0.5 * X ** 2 + X + 2 + np.random.rand(m, 1) #polynomial data set with some gaussian noise\n",
    "n = 2 #polynomial degree"
   ]
  },
  {
   "cell_type": "code",
   "execution_count": 2,
   "metadata": {},
   "outputs": [
    {
     "data": {
      "text/plain": [
       "array([-1.25459881,  1.57401818])"
      ]
     },
     "execution_count": 2,
     "metadata": {},
     "output_type": "execute_result"
    }
   ],
   "source": [
    "from sklearn.preprocessing import PolynomialFeatures\n",
    "poly_features = PolynomialFeatures(degree=n, include_bias=False) #class to transform polynomial into one of degree 2\n",
    "X_poly = poly_features.fit_transform(X) # takes the each value in vector X as the input x, calculates X^2 and X to make quadratic\n",
    "X[0]\n",
    "X_poly[0] # == (X, X^2)"
   ]
  },
  {
   "cell_type": "code",
   "execution_count": 13,
   "metadata": {},
   "outputs": [
    {
     "data": {
      "text/plain": [
       "(array([2.8439061]), array([0.70233259, 0.45086822]))"
      ]
     },
     "execution_count": 13,
     "metadata": {},
     "output_type": "execute_result"
    }
   ],
   "source": [
    "from sklearn.linear_model import ElasticNet\n",
    "# alpha fine-tunes how much the weights (from both Lasso and Ridge) contribute to the cost function\n",
    "# l1_ratio=0.4 means 40% of the emphasis for regularization goes to Lasso, and 60% goes to Ridge\n",
    "elastic_net = ElasticNet(alpha=3, l1_ratio=0.4)\n",
    "elastic_net.fit(X_poly, y)\n",
    "elastic_net.intercept_, elastic_net.coef_"
   ]
  },
  {
   "cell_type": "code",
   "execution_count": 14,
   "metadata": {},
   "outputs": [
    {
     "data": {
      "image/png": "[encoded data removed]",
      "text/plain": [
       "<Figure size 432x288 with 1 Axes>"
      ]
     },
     "metadata": {},
     "output_type": "display_data"
    }
   ],
   "source": [
    "import matplotlib.pyplot as plt\n",
    "plt.plot(X, y, \"b.\")\n",
    "for i in range(-10, 10):\n",
    "    predict_poly_features = PolynomialFeatures(degree=n, include_bias=False)\n",
    "    predict_poly = predict_poly_features.fit_transform([[i]])\n",
    "    valueVec = np.full((1, n), i) #creates an n x 1 array of value i\n",
    "    plt.plot(valueVec, elastic_net.predict(predict_poly), \"r.\")\n",
    "plt.axis([-10, 10, -10, 50])\n",
    "plt.show()"
   ]
  },
  {
   "cell_type": "code",
   "execution_count": null,
   "metadata": {},
   "outputs": [],
   "source": [
    "# notice that the elastic net points are slightly off from data\n",
    "# this is just trying to demonstrate that the model works. In reality, alpha should be smaller."
   ]
  }
 ],
 "metadata": {
  "kernelspec": {
   "display_name": "Python 3",
   "language": "python",
   "name": "python3"
  },
  "language_info": {
   "codemirror_mode": {
    "name": "ipython",
    "version": 3
   },
   "file_extension": ".py",
   "mimetype": "text/x-python",
   "name": "python",
   "nbconvert_exporter": "python",
   "pygments_lexer": "ipython3",
   "version": "3.6.2"
  }
 },
 "nbformat": 4,
 "nbformat_minor": 2
}
