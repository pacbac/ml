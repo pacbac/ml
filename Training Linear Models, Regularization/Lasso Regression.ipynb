{
 "cells": [
  {
   "cell_type": "code",
   "execution_count": 2,
   "metadata": {},
   "outputs": [],
   "source": [
    "import numpy as np\n",
    "np.random.seed(42)\n",
    "m = 100\n",
    "X = 10 * np.random.rand(m, 1) - 5\n",
    "y = 0.5 * X ** 2 + X + 2 + np.random.rand(m, 1) #polynomial data set with some gaussian noise\n",
    "n = 2 #polynomial degree"
   ]
  },
  {
   "cell_type": "code",
   "execution_count": 3,
   "metadata": {},
   "outputs": [
    {
     "data": {
      "text/plain": [
       "array([-1.25459881,  1.57401818])"
      ]
     },
     "execution_count": 3,
     "metadata": {},
     "output_type": "execute_result"
    }
   ],
   "source": [
    "from sklearn.preprocessing import PolynomialFeatures\n",
    "poly_features = PolynomialFeatures(degree=n, include_bias=False) #class to transform polynomial into one of degree 2\n",
    "X_poly = poly_features.fit_transform(X) # takes the each value in vector X as the input x, calculates X^2 and X to make quadratic\n",
    "X[0]\n",
    "X_poly[0] # == (X, X^2)"
   ]
  },
  {
   "cell_type": "markdown",
   "metadata": {},
   "source": [
    "# Linear Regression (for reference)"
   ]
  },
  {
   "cell_type": "code",
   "execution_count": 5,
   "metadata": {},
   "outputs": [
    {
     "data": {
      "text/plain": [
       "(array([2.49786712]), array([[0.99661546, 0.49988197]]))"
      ]
     },
     "execution_count": 5,
     "metadata": {},
     "output_type": "execute_result"
    }
   ],
   "source": [
    "from sklearn.linear_model import LinearRegression\n",
    "lin_reg = LinearRegression()\n",
    "lin_reg.fit(X_poly, y)\n",
    "lin_reg.intercept_, lin_reg.coef_"
   ]
  },
  {
   "cell_type": "code",
   "execution_count": 6,
   "metadata": {},
   "outputs": [
    {
     "data": {
      "image/png": "[encoded data removed]",
      "text/plain": [
       "<Figure size 432x288 with 1 Axes>"
      ]
     },
     "metadata": {},
     "output_type": "display_data"
    }
   ],
   "source": [
    "import matplotlib.pyplot as plt\n",
    "plt.plot(X, y, \"b.\")\n",
    "for i in range(-10, 10):\n",
    "    predict_poly_features = PolynomialFeatures(degree=n, include_bias=False)\n",
    "    predict_poly = predict_poly_features.fit_transform([[i]])\n",
    "    valueVec = np.full((1, n), i) #creates an n x 1 array of value i\n",
    "    plt.plot(valueVec, lin_reg.predict(predict_poly), \"r-\")\n",
    "plt.axis([-10, 10, -10, 50])\n",
    "plt.show()"
   ]
  },
  {
   "cell_type": "code",
   "execution_count": 97,
   "metadata": {},
   "outputs": [
    {
     "data": {
      "text/plain": [
       "(array([2.5148711]), array([0.98458319, 0.49755531]))"
      ]
     },
     "execution_count": 97,
     "metadata": {},
     "output_type": "execute_result"
    }
   ],
   "source": [
    "from sklearn.linear_model import Lasso\n",
    "lasso_reg = Lasso(alpha=0.1)\n",
    "lasso_reg.fit(X_poly, y)\n",
    "lasso_reg.intercept_, lasso_reg.coef_"
   ]
  },
  {
   "cell_type": "markdown",
   "metadata": {},
   "source": [
    "# Lasso Regression version"
   ]
  },
  {
   "cell_type": "code",
   "execution_count": 110,
   "metadata": {},
   "outputs": [
    {
     "data": {
      "text/plain": [
       "(array([3.34806557]), array([0.39501116, 0.38354928]))"
      ]
     },
     "execution_count": 110,
     "metadata": {},
     "output_type": "execute_result"
    }
   ],
   "source": [
    "from sklearn.linear_model import Lasso\n",
    "lasso_reg = Lasso(alpha=5)\n",
    "lasso_reg.fit(X_poly, y)\n",
    "lasso_reg.intercept_, lasso_reg.coef_"
   ]
  },
  {
   "cell_type": "code",
   "execution_count": 111,
   "metadata": {},
   "outputs": [
    {
     "data": {
      "image/png": "[encoded data removed]",
      "text/plain": [
       "<Figure size 432x288 with 1 Axes>"
      ]
     },
     "metadata": {},
     "output_type": "display_data"
    }
   ],
   "source": [
    "plt.plot(X, y, \"b.\")\n",
    "for i in range(-10, 10):\n",
    "    predict_poly_features = PolynomialFeatures(degree=n, include_bias=False)\n",
    "    predict_poly = predict_poly_features.fit_transform([[i]])\n",
    "    valueVec = np.full((1, n), i) #creates an n x 1 array of value i\n",
    "    plt.plot(valueVec, lasso_reg.predict(predict_poly), \"r.\")\n",
    "plt.axis([-10, 10, -10, 50])\n",
    "plt.show()"
   ]
  }
 ],
 "metadata": {
  "kernelspec": {
   "display_name": "Python 3",
   "language": "python",
   "name": "python3"
  },
  "language_info": {
   "codemirror_mode": {
    "name": "ipython",
    "version": 3
   },
   "file_extension": ".py",
   "mimetype": "text/x-python",
   "name": "python",
   "nbconvert_exporter": "python",
   "pygments_lexer": "ipython3",
   "version": "3.6.2"
  }
 },
 "nbformat": 4,
 "nbformat_minor": 2
}
