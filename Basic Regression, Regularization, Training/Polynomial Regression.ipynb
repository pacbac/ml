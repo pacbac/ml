{
 "cells": [
  {
   "cell_type": "code",
   "execution_count": 3,
   "metadata": {},
   "outputs": [
    {
     "data": {
      "text/plain": [
       "array([[ 0.48735496],\n",
       "       [ 1.96916113],\n",
       "       [ 1.79378767],\n",
       "       [ 1.19959048],\n",
       "       [ 0.33932454],\n",
       "       [ 1.8589538 ],\n",
       "       [ 2.36609279],\n",
       "       [ 2.72678933],\n",
       "       [ 1.55892416],\n",
       "       [-2.03494842],\n",
       "       [ 0.8759396 ],\n",
       "       [ 0.67032991],\n",
       "       [ 0.7695369 ],\n",
       "       [ 0.61278642],\n",
       "       [ 1.3099837 ],\n",
       "       [-1.78962594],\n",
       "       [-2.17940505],\n",
       "       [-0.6282602 ],\n",
       "       [ 2.79568401],\n",
       "       [-1.97631499],\n",
       "       [ 2.68489977],\n",
       "       [-1.05893321],\n",
       "       [-2.9374342 ],\n",
       "       [ 1.59479312],\n",
       "       [-0.27279003],\n",
       "       [ 1.92642428],\n",
       "       [-0.31846051],\n",
       "       [ 0.74216421],\n",
       "       [-0.45335922],\n",
       "       [-1.1310276 ],\n",
       "       [ 0.68969577],\n",
       "       [ 2.80515636],\n",
       "       [ 2.31179243],\n",
       "       [ 1.44901187],\n",
       "       [-1.21829925],\n",
       "       [ 1.54657651],\n",
       "       [ 0.81692154],\n",
       "       [ 0.48862789],\n",
       "       [-0.74083133],\n",
       "       [-0.5383427 ],\n",
       "       [-2.74097057],\n",
       "       [ 2.95421351],\n",
       "       [ 1.24187646],\n",
       "       [-0.40250929],\n",
       "       [-2.65189845],\n",
       "       [-0.63139603],\n",
       "       [-0.67479704],\n",
       "       [ 2.66792817],\n",
       "       [ 2.91076255],\n",
       "       [ 1.69410683],\n",
       "       [-1.88537678],\n",
       "       [-0.56977303],\n",
       "       [ 2.34141342],\n",
       "       [ 1.54196804],\n",
       "       [-1.70684032],\n",
       "       [-2.09883301],\n",
       "       [ 1.92180292],\n",
       "       [-0.39272755],\n",
       "       [-2.95654211],\n",
       "       [ 2.42858071],\n",
       "       [ 2.79051502],\n",
       "       [ 1.19036329],\n",
       "       [-2.43700283],\n",
       "       [-0.53611092],\n",
       "       [-1.80346543],\n",
       "       [-0.77132124],\n",
       "       [ 2.39295691],\n",
       "       [ 2.48687756],\n",
       "       [ 2.86511687],\n",
       "       [-0.86072056],\n",
       "       [ 1.28683728],\n",
       "       [ 2.29048184],\n",
       "       [ 0.83104127],\n",
       "       [-0.99600721],\n",
       "       [ 0.29705063],\n",
       "       [-2.08349117],\n",
       "       [ 0.68842322],\n",
       "       [ 0.41670565],\n",
       "       [ 1.41905376],\n",
       "       [ 1.94945644],\n",
       "       [ 0.7511274 ],\n",
       "       [ 0.06017668],\n",
       "       [ 2.64678359],\n",
       "       [ 0.03638598],\n",
       "       [ 2.59129767],\n",
       "       [ 1.70095951],\n",
       "       [ 0.10752543],\n",
       "       [-2.65874604],\n",
       "       [-1.45122759],\n",
       "       [-0.92476063],\n",
       "       [-2.16424025],\n",
       "       [ 0.14362146],\n",
       "       [-0.90820921],\n",
       "       [-0.36569893],\n",
       "       [ 0.13733751],\n",
       "       [ 1.77546349],\n",
       "       [-2.64731343],\n",
       "       [ 2.44174391],\n",
       "       [-2.64094748],\n",
       "       [ 1.05570039]])"
      ]
     },
     "execution_count": 3,
     "metadata": {},
     "output_type": "execute_result"
    }
   ],
   "source": [
    "import numpy as np\n",
    "m = 100\n",
    "X = 6 * np.random.rand(m, 1) - 3 # data set with values in [-3, 3]\n",
    "y = 0.5 * X ** 2 + X + 2 + np.random.rand(m, 1) #polynomial data set with some gaussian noise\n",
    "X"
   ]
  },
  {
   "cell_type": "code",
   "execution_count": 4,
   "metadata": {},
   "outputs": [
    {
     "data": {
      "text/plain": [
       "<Figure size 640x480 with 1 Axes>"
      ]
     },
     "metadata": {},
     "output_type": "display_data"
    }
   ],
   "source": [
    "import matplotlib.pyplot as plt\n",
    "plt.plot(X, y, \"b.\") #plot the x-y graph with blue circle points\n",
    "plt.axis([-3, 3, 1, 10]) #x axis from -3 to 3, y axis from 1 to 10\n",
    "plt.show()"
   ]
  },
  {
   "cell_type": "code",
   "execution_count": 5,
   "metadata": {},
   "outputs": [
    {
     "data": {
      "text/plain": [
       "array([0.48735496, 0.23751486])"
      ]
     },
     "execution_count": 5,
     "metadata": {},
     "output_type": "execute_result"
    }
   ],
   "source": [
    "from sklearn.preprocessing import PolynomialFeatures\n",
    "poly_features = PolynomialFeatures(degree=2, include_bias=False) #class to transform polynomial into one of degree 2\n",
    "X_poly = poly_features.fit_transform(X) # takes the each value in vector X as the input x, calculates X^2 and X to make quadratic\n",
    "X[0]\n",
    "X_poly[0] # == (X, X^2)"
   ]
  },
  {
   "cell_type": "code",
   "execution_count": 29,
   "metadata": {},
   "outputs": [
    {
     "data": {
      "text/plain": [
       "(array([2.46234118]), array([[1.0126007 , 0.50183773]]))"
      ]
     },
     "execution_count": 29,
     "metadata": {},
     "output_type": "execute_result"
    }
   ],
   "source": [
    "from sklearn.linear_model import LinearRegression\n",
    "lin_reg = LinearRegression() # make a new linear regression model\n",
    "lin_reg.fit(X_poly, y) # try to find the best fitting coefficients when training set X_poly is trained against target vector y\n",
    "lin_reg.intercept_, lin_reg.coef_\n",
    "# prints out the y intercept of the best-fit function, and coefficients for (X, X^2)"
   ]
  },
  {
   "cell_type": "code",
   "execution_count": 1,
   "metadata": {},
   "outputs": [],
   "source": [
    "# thus, it predicts the equation (in this particular case) to be y = 0.5018x^2 + 1.0126x + 2.462\n",
    "# which is close to the original, y = 0.5x^2 + x + 2, considering there was gaussian noise added"
   ]
  }
 ],
 "metadata": {
  "kernelspec": {
   "display_name": "Python 3",
   "language": "python",
   "name": "python3"
  },
  "language_info": {
   "codemirror_mode": {
    "name": "ipython",
    "version": 3
   },
   "file_extension": ".py",
   "mimetype": "text/x-python",
   "name": "python",
   "nbconvert_exporter": "python",
   "pygments_lexer": "ipython3",
   "version": "3.6.2"
  }
 },
 "nbformat": 4,
 "nbformat_minor": 2
}
