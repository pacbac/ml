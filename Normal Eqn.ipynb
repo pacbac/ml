{
 "cells": [
  {
   "cell_type": "code",
   "execution_count": 1,
   "metadata": {},
   "outputs": [],
   "source": [
    "# best_parameters = (X^T dot X)^-1 dot X^T dot y\n",
    "# where y is the vector of target values with y_(1) to y_(m)\n",
    "# best_parameters is the particular value that minimizes the cost function"
   ]
  },
  {
   "cell_type": "code",
   "execution_count": 2,
   "metadata": {},
   "outputs": [
    {
     "name": "stdout",
     "output_type": "stream",
     "text": [
      "[[ 6.21310821]\n",
      " [ 5.59675945]\n",
      " [ 4.77142984]\n",
      " [ 8.31664945]\n",
      " [ 7.9538021 ]\n",
      " [ 6.50918297]\n",
      " [ 6.30178325]\n",
      " [ 5.38605137]\n",
      " [ 3.96147968]\n",
      " [ 9.40212456]\n",
      " [ 7.05720943]\n",
      " [ 4.61824759]\n",
      " [ 4.57526356]\n",
      " [ 4.41112603]\n",
      " [ 8.35348823]\n",
      " [ 6.62600308]\n",
      " [ 6.2971455 ]\n",
      " [ 7.81461596]\n",
      " [ 8.40621555]\n",
      " [ 8.36391247]\n",
      " [ 8.11292282]\n",
      " [ 8.49783288]\n",
      " [11.95124174]\n",
      " [ 9.00594905]\n",
      " [ 4.06262011]\n",
      " [10.09776528]\n",
      " [ 9.30442911]\n",
      " [ 3.7530375 ]\n",
      " [ 5.33206753]\n",
      " [ 5.38739349]\n",
      " [ 4.82341028]\n",
      " [ 4.8859488 ]\n",
      " [ 5.394414  ]\n",
      " [ 4.68800449]\n",
      " [ 4.28349599]\n",
      " [ 9.705253  ]\n",
      " [ 4.01146939]\n",
      " [ 8.03806388]\n",
      " [ 6.8366485 ]\n",
      " [ 5.33801832]\n",
      " [ 9.73723902]\n",
      " [ 8.66830713]\n",
      " [ 9.12474366]\n",
      " [ 8.67731567]\n",
      " [ 3.7665767 ]\n",
      " [ 8.83062405]\n",
      " [ 8.46930242]\n",
      " [ 5.35909491]\n",
      " [ 8.50424382]\n",
      " [10.16044605]\n",
      " [ 4.99023803]\n",
      " [ 6.29080475]\n",
      " [ 7.07378833]\n",
      " [ 6.16245144]\n",
      " [ 6.02823444]\n",
      " [ 4.1325373 ]\n",
      " [ 5.00459504]\n",
      " [ 7.44744525]\n",
      " [ 6.9533548 ]\n",
      " [10.03630267]\n",
      " [ 6.72816985]\n",
      " [ 6.88743317]\n",
      " [ 4.35359778]\n",
      " [ 6.90716256]\n",
      " [ 5.33468615]\n",
      " [ 6.39350636]\n",
      " [ 5.33673241]\n",
      " [ 5.62334498]\n",
      " [ 9.36293388]\n",
      " [ 6.37367696]\n",
      " [ 8.29765742]\n",
      " [ 5.23316191]\n",
      " [ 5.72686457]\n",
      " [ 7.07553785]\n",
      " [ 7.57907294]\n",
      " [ 5.33672558]\n",
      " [ 4.92738376]\n",
      " [ 8.23544528]\n",
      " [ 7.32206253]\n",
      " [ 8.78941261]\n",
      " [10.20786861]\n",
      " [ 4.78394306]\n",
      " [ 9.19894429]\n",
      " [ 5.00816796]\n",
      " [ 3.67206193]\n",
      " [ 8.57787254]\n",
      " [ 8.60056005]\n",
      " [ 4.60991563]\n",
      " [ 6.58571342]\n",
      " [ 4.40653519]\n",
      " [ 9.37409291]\n",
      " [10.304611  ]\n",
      " [ 4.54063382]\n",
      " [ 6.75867688]\n",
      " [ 6.4441598 ]\n",
      " [ 6.14171252]\n",
      " [ 8.67807686]\n",
      " [ 8.64019936]\n",
      " [ 9.86725159]\n",
      " [ 9.08653099]]\n"
     ]
    }
   ],
   "source": [
    "import numpy as np\n",
    "X = 2 * np.random.rand(100, 1) # create a 100 x 1 vector of randomized values\n",
    "y = 4 + 3 * X + np.random.randn(100, 1) # plug in X vector into linear function, add some Gaussian noise\n",
    "#Random data set created in y\n",
    "print(y)"
   ]
  },
  {
   "cell_type": "code",
   "execution_count": 3,
   "metadata": {},
   "outputs": [
    {
     "name": "stdout",
     "output_type": "stream",
     "text": [
      "[[1.         1.02400018]\n",
      " [1.         0.34770059]\n",
      " [1.         0.24338071]\n",
      " [1.         0.65588202]\n",
      " [1.         1.05109828]\n",
      " [1.         1.27992464]\n",
      " [1.         1.96295588]\n",
      " [1.         0.70978558]\n",
      " [1.         0.17986522]\n",
      " [1.         1.27101349]\n",
      " [1.         1.06508293]\n",
      " [1.         0.70017479]\n",
      " [1.         0.50766357]\n",
      " [1.         0.35061848]\n",
      " [1.         0.90431594]\n",
      " [1.         0.80383423]\n",
      " [1.         0.539382  ]\n",
      " [1.         1.11532237]\n",
      " [1.         1.30454104]\n",
      " [1.         1.67184673]\n",
      " [1.         1.59922832]\n",
      " [1.         1.88705576]\n",
      " [1.         1.94264547]\n",
      " [1.         1.63220928]\n",
      " [1.         0.62300105]\n",
      " [1.         1.71681727]\n",
      " [1.         1.50508123]\n",
      " [1.         0.01357986]\n",
      " [1.         0.17454427]\n",
      " [1.         0.22895609]\n",
      " [1.         0.5674539 ]\n",
      " [1.         0.29914371]\n",
      " [1.         0.57421069]\n",
      " [1.         0.39117414]\n",
      " [1.         0.09029243]\n",
      " [1.         1.74112843]\n",
      " [1.         0.66615056]\n",
      " [1.         1.8253347 ]\n",
      " [1.         1.26395662]\n",
      " [1.         0.79450798]\n",
      " [1.         1.81679985]\n",
      " [1.         1.67105289]\n",
      " [1.         1.5895091 ]\n",
      " [1.         1.69250782]\n",
      " [1.         0.18358996]\n",
      " [1.         1.94997926]\n",
      " [1.         1.02374174]\n",
      " [1.         0.00851173]\n",
      " [1.         1.54324751]\n",
      " [1.         1.51197641]\n",
      " [1.         0.17396597]\n",
      " [1.         0.72113368]\n",
      " [1.         1.36710485]\n",
      " [1.         0.09973277]\n",
      " [1.         0.42173693]\n",
      " [1.         0.02945365]\n",
      " [1.         0.49135778]\n",
      " [1.         0.9113556 ]\n",
      " [1.         1.6719684 ]\n",
      " [1.         1.57239023]\n",
      " [1.         1.23424675]\n",
      " [1.         1.13994292]\n",
      " [1.         0.02181311]\n",
      " [1.         1.22970935]\n",
      " [1.         0.6159798 ]\n",
      " [1.         0.96708175]\n",
      " [1.         0.18142003]\n",
      " [1.         1.10521296]\n",
      " [1.         1.54656135]\n",
      " [1.         0.93585269]\n",
      " [1.         0.9544324 ]\n",
      " [1.         0.96668921]\n",
      " [1.         0.70370468]\n",
      " [1.         0.92194503]\n",
      " [1.         1.29067549]\n",
      " [1.         0.02052746]\n",
      " [1.         0.57910933]\n",
      " [1.         1.51193038]\n",
      " [1.         0.7262236 ]\n",
      " [1.         0.93952371]\n",
      " [1.         1.97540266]\n",
      " [1.         0.45410479]\n",
      " [1.         1.65871769]\n",
      " [1.         0.48998077]\n",
      " [1.         0.16430068]\n",
      " [1.         1.43093594]\n",
      " [1.         0.70380944]\n",
      " [1.         0.33936065]\n",
      " [1.         0.50393984]\n",
      " [1.         0.72360106]\n",
      " [1.         1.4240265 ]\n",
      " [1.         1.72280563]\n",
      " [1.         0.09898609]\n",
      " [1.         1.43541079]\n",
      " [1.         0.73261564]\n",
      " [1.         0.89459731]\n",
      " [1.         0.9117038 ]\n",
      " [1.         1.85559221]\n",
      " [1.         1.68779029]\n",
      " [1.         1.36569794]]\n"
     ]
    }
   ],
   "source": [
    "X_b = np.c_[np.ones((100, 1)), X] # add a column of x0 = 1 to each instance\n",
    "print(X_b)\n",
    "theta_best = np.linalg.inv (X_b.T.dot(X_b)).dot(X_b.T).dot(y) # normal equation\n",
    "# the normal equation returns parameters theta0, ..., thetaN that best predict the trend of the dataset"
   ]
  },
  {
   "cell_type": "code",
   "execution_count": 4,
   "metadata": {},
   "outputs": [
    {
     "name": "stdout",
     "output_type": "stream",
     "text": [
      "[[4.18221374]\n",
      " [2.80622406]]\n"
     ]
    }
   ],
   "source": [
    "# in this case, theta_best should be close to [4, 3] because of our equation, y = 4 + 3 * X\n",
    "# the noise makes it impossible to recover exact parameters of the original function.\n",
    "print(theta_best)"
   ]
  },
  {
   "cell_type": "code",
   "execution_count": 5,
   "metadata": {},
   "outputs": [
    {
     "name": "stdout",
     "output_type": "stream",
     "text": [
      "[[1. 0.]\n",
      " [1. 2.]]\n"
     ]
    }
   ],
   "source": [
    "X_new = np.array([[0], [2]]) # 2 new pieces of data, 0 and 2\n",
    "X_new_b = np.c_[np.ones((2, 1)), X_new] # add x0 = 1 to each instance so dot product performs correctly\n",
    "print(X_new_b)"
   ]
  },
  {
   "cell_type": "code",
   "execution_count": 6,
   "metadata": {},
   "outputs": [
    {
     "data": {
      "text/plain": [
       "array([[4.18221374],\n",
       "       [9.79466186]])"
      ]
     },
     "execution_count": 6,
     "metadata": {},
     "output_type": "execute_result"
    }
   ],
   "source": [
    "y_predict = X_new_b.dot(theta_best)\n",
    "y_predict #list of predicted y-values for the corresponding x values 0 and 2"
   ]
  },
  {
   "cell_type": "code",
   "execution_count": 10,
   "metadata": {},
   "outputs": [
    {
     "data": {
      "image/png": "[encoded data removed]",
      "text/plain": [
       "<Figure size 432x288 with 1 Axes>"
      ]
     },
     "metadata": {},
     "output_type": "display_data"
    }
   ],
   "source": [
    "import matplotlib.pyplot as plt\n",
    "plt.plot(X_new, y_predict, \"r-\") #plot the line based on the 2 points from x_new\n",
    "plt.plot(X, y, \"b.\") #assign variable vectors for each axis\n",
    "plt.axis([0, 2, 0, 15]) #x axis goes from 0 to 2, y axis goes from 0 to 15\n",
    "plt.show()"
   ]
  },
  {
   "cell_type": "code",
   "execution_count": null,
   "metadata": {},
   "outputs": [],
   "source": []
  }
 ],
 "metadata": {
  "kernelspec": {
   "display_name": "Python 3",
   "language": "python",
   "name": "python3"
  },
  "language_info": {
   "codemirror_mode": {
    "name": "ipython",
    "version": 3
   },
   "file_extension": ".py",
   "mimetype": "text/x-python",
   "name": "python",
   "nbconvert_exporter": "python",
   "pygments_lexer": "ipython3",
   "version": "3.6.2"
  }
 },
 "nbformat": 4,
 "nbformat_minor": 2
}
