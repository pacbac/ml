{
 "cells": [
  {
   "cell_type": "code",
   "execution_count": 25,
   "metadata": {},
   "outputs": [
    {
     "data": {
      "text/plain": [
       "array([[-1.22297438],\n",
       "       [ 0.20242121],\n",
       "       [ 1.30124514],\n",
       "       [ 1.16556752],\n",
       "       [-0.0309601 ],\n",
       "       [-1.06235447],\n",
       "       [ 2.61011686],\n",
       "       [ 2.26985623],\n",
       "       [-1.0546595 ],\n",
       "       [ 1.38601945],\n",
       "       [-2.26949206],\n",
       "       [ 2.3088117 ],\n",
       "       [ 0.45835474],\n",
       "       [-2.37112127],\n",
       "       [-2.44322111],\n",
       "       [-0.42897617],\n",
       "       [ 0.26407724],\n",
       "       [ 0.4047448 ],\n",
       "       [-2.70611416],\n",
       "       [ 1.95437931],\n",
       "       [ 1.69104278],\n",
       "       [ 0.80560416],\n",
       "       [ 0.11274337],\n",
       "       [-1.16142698],\n",
       "       [-1.64810848],\n",
       "       [-2.73103085],\n",
       "       [-0.77242771],\n",
       "       [-0.58164278],\n",
       "       [ 0.96842572],\n",
       "       [-0.89774671],\n",
       "       [-1.26295163],\n",
       "       [ 0.73365206],\n",
       "       [-2.21583513],\n",
       "       [-1.12387916],\n",
       "       [-2.20488829],\n",
       "       [-2.28726621],\n",
       "       [-1.06924699],\n",
       "       [-2.50253328],\n",
       "       [-0.06403865],\n",
       "       [ 2.82282092],\n",
       "       [ 1.24023463],\n",
       "       [ 1.31770714],\n",
       "       [ 1.51328304],\n",
       "       [-2.46871067],\n",
       "       [ 0.31676593],\n",
       "       [ 0.78681421],\n",
       "       [ 2.84878913],\n",
       "       [-0.40697958],\n",
       "       [ 1.2571371 ],\n",
       "       [ 1.52097054],\n",
       "       [-0.78996027],\n",
       "       [ 1.17030345],\n",
       "       [-2.17761201],\n",
       "       [ 0.01448365],\n",
       "       [ 2.03515856],\n",
       "       [-0.73936684],\n",
       "       [ 1.69533211],\n",
       "       [ 2.89326837],\n",
       "       [-0.76001334],\n",
       "       [-2.11765332],\n",
       "       [-0.67700176],\n",
       "       [ 0.26876087],\n",
       "       [-2.4424652 ],\n",
       "       [ 0.27937954],\n",
       "       [ 1.80899786],\n",
       "       [-1.77362001],\n",
       "       [-0.30365802],\n",
       "       [ 1.51004309],\n",
       "       [-1.0526032 ],\n",
       "       [-0.19979268],\n",
       "       [-1.99156224],\n",
       "       [-1.16988947],\n",
       "       [-1.80386552],\n",
       "       [ 1.16568476],\n",
       "       [-2.39428711],\n",
       "       [-0.11942752],\n",
       "       [-0.11982947],\n",
       "       [-1.37528253],\n",
       "       [-2.73419031],\n",
       "       [ 0.79964892],\n",
       "       [ 0.96872499],\n",
       "       [ 0.82503   ],\n",
       "       [ 1.8120033 ],\n",
       "       [ 2.47718748],\n",
       "       [ 0.29316191],\n",
       "       [-1.32080116],\n",
       "       [ 0.39293113],\n",
       "       [-2.95560948],\n",
       "       [ 2.42107892],\n",
       "       [ 2.20189429],\n",
       "       [-1.41111996],\n",
       "       [-0.11255106],\n",
       "       [-2.45943236],\n",
       "       [ 1.15957327],\n",
       "       [-0.48257856],\n",
       "       [ 0.88241432],\n",
       "       [ 1.108277  ],\n",
       "       [-1.16110044],\n",
       "       [-1.76810366],\n",
       "       [-1.59467209]])"
      ]
     },
     "execution_count": 25,
     "metadata": {},
     "output_type": "execute_result"
    }
   ],
   "source": [
    "import numpy as np\n",
    "m = 100\n",
    "X = 6 * np.random.rand(m, 1) - 3 # data set with values in [-3, 3]\n",
    "y = 0.5 * X ** 2 + X + 2 + np.random.rand(m, 1) #polynomial data set with some gaussian noise\n",
    "X"
   ]
  },
  {
   "cell_type": "code",
   "execution_count": 35,
   "metadata": {},
   "outputs": [
    {
     "data": {
      "image/png": "[encoded data removed]",
      "text/plain": [
       "<Figure size 432x288 with 1 Axes>"
      ]
     },
     "metadata": {},
     "output_type": "display_data"
    }
   ],
   "source": [
    "import matplotlib.pyplot as plt\n",
    "plt.plot(X, y, \"b.\") #plot the x-y graph with blue circle points\n",
    "plt.axis([-3, 3, 1, 10]) #x axis from -3 to 3, y axis from 1 to 10\n",
    "plt.show()"
   ]
  },
  {
   "cell_type": "code",
   "execution_count": 28,
   "metadata": {},
   "outputs": [
    {
     "data": {
      "text/plain": [
       "array([-1.22297438,  1.49566633])"
      ]
     },
     "execution_count": 28,
     "metadata": {},
     "output_type": "execute_result"
    }
   ],
   "source": [
    "from sklearn.preprocessing import PolynomialFeatures\n",
    "poly_features = PolynomialFeatures(degree=2, include_bias=False) #class to transform polynomial into one of degree 2\n",
    "X_poly = poly_features.fit_transform(X) # takes the each value in vector X as the input x, calculates X^2 and X to make quadratic\n",
    "X[0]\n",
    "X_poly[0] # == (X, X^2)"
   ]
  },
  {
   "cell_type": "code",
   "execution_count": 29,
   "metadata": {},
   "outputs": [
    {
     "data": {
      "text/plain": [
       "(array([2.46234118]), array([[1.0126007 , 0.50183773]]))"
      ]
     },
     "execution_count": 29,
     "metadata": {},
     "output_type": "execute_result"
    }
   ],
   "source": [
    "from sklearn.linear_model import LinearRegression\n",
    "lin_reg = LinearRegression() # make a new linear regression model\n",
    "lin_reg.fit(X_poly, y) # try to find the best fitting coefficients when training set X_poly is trained against target vector y\n",
    "lin_reg.intercept_, lin_reg.coef_\n",
    "# prints out the y intercept of the best-fit function, and coefficients for (X, X^2)"
   ]
  },
  {
   "cell_type": "code",
   "execution_count": null,
   "metadata": {},
   "outputs": [],
   "source": [
    "# thus, it predicts the equation (in this particular case) to be y = 0.5018x^2 + 1.0126x + 2.462\n",
    "# which is close to the original, y = 0.5x^2 + x + 2, considering there was gaussian noise added"
   ]
  }
 ],
 "metadata": {
  "kernelspec": {
   "display_name": "Python 3",
   "language": "python",
   "name": "python3"
  },
  "language_info": {
   "codemirror_mode": {
    "name": "ipython",
    "version": 3
   },
   "file_extension": ".py",
   "mimetype": "text/x-python",
   "name": "python",
   "nbconvert_exporter": "python",
   "pygments_lexer": "ipython3",
   "version": "3.6.2"
  }
 },
 "nbformat": 4,
 "nbformat_minor": 2
}
